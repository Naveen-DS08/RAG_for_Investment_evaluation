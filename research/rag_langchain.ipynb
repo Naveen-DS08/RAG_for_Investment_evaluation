{
 "cells": [
  {
   "cell_type": "code",
   "execution_count": 6,
   "id": "68ed6856",
   "metadata": {},
   "outputs": [
    {
     "data": {
      "text/plain": [
       "'c:\\\\Users\\\\HP\\\\Desktop\\\\VS_Code\\\\projects\\\\RAG_model\\\\RAG_for_Investment_evaluation\\\\research'"
      ]
     },
     "execution_count": 6,
     "metadata": {},
     "output_type": "execute_result"
    }
   ],
   "source": [
    "# Getting ourworking directory\n",
    "import os \n",
    "os.getcwd()"
   ]
  },
  {
   "cell_type": "code",
   "execution_count": 7,
   "id": "b723f5d2",
   "metadata": {},
   "outputs": [
    {
     "data": {
      "text/plain": [
       "'c:\\\\Users\\\\HP\\\\Desktop\\\\VS_Code\\\\projects\\\\RAG_model\\\\RAG_for_Investment_evaluation'"
      ]
     },
     "execution_count": 7,
     "metadata": {},
     "output_type": "execute_result"
    }
   ],
   "source": [
    "# Changing working directory\n",
    "os.chdir(\"../\")\n",
    "\n",
    "os.getcwd()"
   ]
  },
  {
   "cell_type": "code",
   "execution_count": 9,
   "id": "19be7e8c",
   "metadata": {},
   "outputs": [],
   "source": [
    "from dotenv import load_dotenv\n",
    "\n",
    "load_dotenv()\n",
    "\n",
    "os.environ[\"HF_TOKEN\"] = os.getenv(\"HF_TOKEN\")\n",
    "os.environ[\"GROQ_API_KEY\"] = os.getenv(\"GROQ_API_KEY\")"
   ]
  },
  {
   "cell_type": "code",
   "execution_count": 10,
   "id": "3f66747c",
   "metadata": {},
   "outputs": [
    {
     "data": {
      "text/plain": [
       "ChatGroq(client=<groq.resources.chat.completions.Completions object at 0x0000028A17EB0890>, async_client=<groq.resources.chat.completions.AsyncCompletions object at 0x0000028A17EA4110>, model_name='meta-llama/llama-4-scout-17b-16e-instruct', model_kwargs={}, groq_api_key=SecretStr('**********'))"
      ]
     },
     "execution_count": 10,
     "metadata": {},
     "output_type": "execute_result"
    }
   ],
   "source": [
    "from langchain_groq import ChatGroq \n",
    "\n",
    "llama4 = \"meta-llama/llama-4-scout-17b-16e-instruct\"\n",
    "gemma = \"gemma2-9b-it\"\n",
    "deepseek= \"deepseek-r1-distill-llama-70b\"\n",
    "\n",
    "llama_model = ChatGroq(model=llama4)\n",
    "llama_model"
   ]
  },
  {
   "cell_type": "code",
   "execution_count": 13,
   "id": "092ff943",
   "metadata": {},
   "outputs": [
    {
     "name": "stdout",
     "output_type": "stream",
     "text": [
      "Self-attention is a key component of the Transformer architecture, introduced in the paper \"Attention Is All You Need\" by Vaswani et al. in 2017. It's a mechanism that allows the model to attend to different parts of the input sequence simultaneously and weigh their importance.\n",
      "\n",
      "**What is self-attention?**\n",
      "\n",
      "In traditional recurrent neural networks (RNNs), the model processes the input sequence sequentially, using the previous hidden state to inform the next step. In contrast, self-attention allows the model to process the entire input sequence in parallel and compute the representation of each element (e.g., a word or token) by attending to all other elements in the sequence.\n",
      "\n",
      "**How does self-attention work?**\n",
      "\n",
      "The self-attention mechanism takes in a set of input vectors, typically representing a sequence of tokens (e.g., words or characters). The input vectors are linearly transformed into three vectors:\n",
      "\n",
      "1. **Query (Q)**: represents the context in which the attention is being applied\n",
      "2. **Key (K)**: represents the information being attended to\n",
      "3. **Value (V)**: represents the information being retrieved\n",
      "\n",
      "The self-attention mechanism computes the weighted sum of the value vectors based on the similarity between the query and key vectors. The weights are learned during training and reflect the importance of each element in the input sequence.\n",
      "\n",
      "The process can be broken down into the following steps:\n",
      "\n",
      "1. **Compute Q, K, and V**: Linearly transform the input vectors into Q, K, and V vectors.\n",
      "2. **Compute attention scores**: Compute the dot product of Q and K vectors, divided by the square root of the key's dimensionality (usually a scaling factor). This produces a set of attention scores.\n",
      "3. **Apply softmax**: Apply a softmax function to the attention scores to obtain a set of weights that sum to 1.\n",
      "4. **Compute output**: Compute the weighted sum of the value vectors using the attention weights.\n",
      "\n",
      "**Multi-Head Attention**\n",
      "\n",
      "The Transformer architecture uses a technique called multi-head attention, which applies self-attention multiple times in parallel, with different learned linear projections of the input vectors. This allows the model to jointly attend to information from different representation subspaces at different positions.\n",
      "\n",
      "The outputs from each attention head are concatenated and linearly transformed using a learned linear layer.\n",
      "\n",
      "**Self-Attention in Transformer Architecture**\n",
      "\n",
      "In the Transformer architecture, self-attention is used in two places:\n",
      "\n",
      "1. **Encoder**: Self-attention is used to compute the representation of each input token (e.g., a word) by attending to all other tokens in the input sequence.\n",
      "2. **Decoder**: Self-attention is used to compute the representation of each output token (e.g., a word) by attending to all previous output tokens and the input sequence.\n",
      "\n",
      "The Transformer architecture replaces traditional recurrent neural network (RNN) layers with self-attention mechanisms, allowing for parallelization and more efficient computation.\n",
      "\n",
      "**Advantages of Self-Attention**\n",
      "\n",
      "Self-attention has several advantages over traditional RNNs:\n",
      "\n",
      "* **Parallelization**: Self-attention allows for parallelization across the input sequence, making it more efficient than RNNs.\n",
      "* **Scalability**: Self-attention can handle longer input sequences than RNNs, which are limited by their recurrent connections.\n",
      "* **Flexibility**: Self-attention can be used for a variety of tasks, including machine translation, text classification, and question answering.\n",
      "\n",
      "I hope this explanation helps! Do you have any specific questions or aspects you'd like me to elaborate on?\n"
     ]
    }
   ],
   "source": [
    "print(llama_model.invoke(\"Hi, can you explain about self attention in transformer architecture?\").content)"
   ]
  },
  {
   "cell_type": "code",
   "execution_count": 14,
   "id": "c7836274",
   "metadata": {},
   "outputs": [
    {
     "data": {
      "text/plain": [
       "['docs/Neolen Pitch.pdf', 'docs/Pitch Deck EvolveDev.io .pdf']"
      ]
     },
     "execution_count": 14,
     "metadata": {},
     "output_type": "execute_result"
    }
   ],
   "source": [
    "from pathlib import Path \n",
    "\n",
    "data_path = \"docs/\"\n",
    "\n",
    "file_names = os.listdir(data_path)\n",
    "\n",
    "doc_path_list = [data_path + file for file in file_names]\n",
    "doc_path_list"
   ]
  },
  {
   "cell_type": "code",
   "execution_count": null,
   "id": "0a44912f",
   "metadata": {},
   "outputs": [
    {
     "name": "stderr",
     "output_type": "stream",
     "text": [
      "Could get FontBBox from font descriptor because None cannot be parsed as 4 floats\n",
      "Could get FontBBox from font descriptor because None cannot be parsed as 4 floats\n",
      "Cannot set gray stroke color because /'P4' is an invalid float value\n",
      "Cannot set gray non-stroke color because /'P4' is an invalid float value\n",
      "Could get FontBBox from font descriptor because None cannot be parsed as 4 floats\n",
      "Could get FontBBox from font descriptor because None cannot be parsed as 4 floats\n",
      "Could get FontBBox from font descriptor because None cannot be parsed as 4 floats\n",
      "Could get FontBBox from font descriptor because None cannot be parsed as 4 floats\n",
      "Cannot set gray stroke color because /'P17' is an invalid float value\n",
      "Cannot set gray non-stroke color because /'P17' is an invalid float value\n",
      "Could get FontBBox from font descriptor because None cannot be parsed as 4 floats\n",
      "Cannot set gray stroke color because /'P28' is an invalid float value\n",
      "Cannot set gray non-stroke color because /'P28' is an invalid float value\n",
      "Could get FontBBox from font descriptor because None cannot be parsed as 4 floats\n",
      "Cannot set gray stroke color because /'P4' is an invalid float value\n",
      "Cannot set gray non-stroke color because /'P4' is an invalid float value\n",
      "Cannot set gray stroke color because /'P72' is an invalid float value\n",
      "Cannot set gray non-stroke color because /'P72' is an invalid float value\n",
      "Cannot set gray stroke color because /'P86' is an invalid float value\n",
      "Cannot set gray non-stroke color because /'P86' is an invalid float value\n",
      "Could get FontBBox from font descriptor because None cannot be parsed as 4 floats\n",
      "Cannot set gray stroke color because /'P4' is an invalid float value\n",
      "Cannot set gray non-stroke color because /'P4' is an invalid float value\n",
      "Cannot set gray stroke color because /'P86' is an invalid float value\n",
      "Cannot set gray non-stroke color because /'P86' is an invalid float value\n",
      "Cannot set gray stroke color because /'P141' is an invalid float value\n",
      "Cannot set gray non-stroke color because /'P141' is an invalid float value\n",
      "Could get FontBBox from font descriptor because None cannot be parsed as 4 floats\n",
      "Cannot set gray stroke color because /'P146' is an invalid float value\n",
      "Cannot set gray non-stroke color because /'P146' is an invalid float value\n",
      "Could get FontBBox from font descriptor because None cannot be parsed as 4 floats\n",
      "Cannot set gray stroke color because /'P161' is an invalid float value\n",
      "Cannot set gray non-stroke color because /'P161' is an invalid float value\n",
      "Cannot set gray stroke color because /'P166' is an invalid float value\n",
      "Cannot set gray non-stroke color because /'P166' is an invalid float value\n"
     ]
    }
   ],
   "source": [
    "# Loading our test PDF \n",
    "\n",
    "from langchain_community.document_loaders import UnstructuredPDFLoader \n",
    "\n",
    "\n",
    "\n",
    "loader = UnstructuredPDFLoader(file_path=data_path,mode=\"elements\", )\n",
    "\n",
    "chunks = loader.load_and_split()"
   ]
  },
  {
   "cell_type": "code",
   "execution_count": 25,
   "id": "a953f463",
   "metadata": {},
   "outputs": [
    {
     "data": {
      "text/plain": [
       "92"
      ]
     },
     "execution_count": 25,
     "metadata": {},
     "output_type": "execute_result"
    }
   ],
   "source": [
    "len(chunks)"
   ]
  },
  {
   "cell_type": "code",
   "execution_count": null,
   "id": "0a79972a",
   "metadata": {},
   "outputs": [
    {
     "data": {
      "text/plain": [
       "{\"<class 'langchain_core.documents.base.Document'>\"}"
      ]
     },
     "execution_count": 21,
     "metadata": {},
     "output_type": "execute_result"
    }
   ],
   "source": [
    "set([str(type(element)) for element in chunks])"
   ]
  },
  {
   "cell_type": "code",
   "execution_count": 22,
   "id": "3d5bbe24",
   "metadata": {},
   "outputs": [
    {
     "data": {
      "text/plain": [
       "{'Header', 'NarrativeText', 'Title', 'UncategorizedText'}"
      ]
     },
     "execution_count": 22,
     "metadata": {},
     "output_type": "execute_result"
    }
   ],
   "source": [
    "set(element.metadata[\"category\"] for element in chunks)"
   ]
  },
  {
   "cell_type": "code",
   "execution_count": 15,
   "id": "317a93d9",
   "metadata": {},
   "outputs": [
    {
     "name": "stderr",
     "output_type": "stream",
     "text": [
      "USER_AGENT environment variable not set, consider setting it to identify your requests.\n"
     ]
    }
   ],
   "source": [
    "# Load data \n",
    "from langchain_community.document_loaders.text import TextLoader\n",
    "from langchain_community.document_loaders import PyPDFLoader, Docx2txtLoader, WebBaseLoader \n",
    "\n",
    "docs = []\n",
    "\n",
    "for doc_file in doc_path_list:\n",
    "\n",
    "    doc_path = Path(doc_file) \n",
    "    try: \n",
    "        if doc_file.endswith(\".pdf\"):\n",
    "            loader = PyPDFLoader(doc_path)\n",
    "        elif doc_file.endswith(\".docx\"):\n",
    "            loader = Docx2txtLoader(doc_path)\n",
    "        elif doc_file.endswith(\".txt\") or doc_file.endswith(\".md\"):\n",
    "            loader = TextLoader(doc_path)\n",
    "        else:\n",
    "            print(f\"Document type {doc_path.type} not supported\")\n",
    "            continue\n",
    "\n",
    "        docs.extend(loader.load())\n",
    "\n",
    "    except Exception as e:\n",
    "        print(f\"Error occured during loading a document: \\n{doc_path.name} -> {e} \")\n",
    "\n",
    "# # Load URL \n",
    "# url = \"\"\n",
    "# try:\n",
    "#     loader = WebBaseLoader(url)\n",
    "#     docs.extend(loader.load())\n",
    "# except Exception as e:\n",
    "#     print(f\"Error loading a URL: {url} -> {e} \")"
   ]
  },
  {
   "cell_type": "code",
   "execution_count": 16,
   "id": "7ecf2a0b",
   "metadata": {},
   "outputs": [
    {
     "data": {
      "text/plain": [
       "[Document(metadata={'producer': '3-Heights™ PDF Optimization API 6.27.2.6 (http://www.pdf-tools.com)', 'creator': 'Chromium', 'creationdate': '2025-01-28T07:04:53+00:00', 'moddate': '2025-01-28T07:05:02+00:00', 'source': 'docs\\\\Neolen Pitch.pdf', 'total_pages': 11, 'page': 0, 'page_label': '1'}, page_content='NEOLEN\\nWE ENGINEER REVENUE-DRIVENPRODUCTS FOR MARKETSUCCESS.\\nOVER MILLION LINES OF CODE |\\nIMPACTING MILLIONS OF USERS |\\nGENERATING MILLIONS IN REVENUE\\nACROSS 10+ INDUSTRIES | EMPOWERING\\n20+ SUCCESS STORIES | EXEMPLARY\\nWORLD-CLASS ENGINEERING'),\n",
       " Document(metadata={'producer': '3-Heights™ PDF Optimization API 6.27.2.6 (http://www.pdf-tools.com)', 'creator': 'Chromium', 'creationdate': '2025-01-28T07:04:53+00:00', 'moddate': '2025-01-28T07:05:02+00:00', 'source': 'docs\\\\Neolen Pitch.pdf', 'total_pages': 11, 'page': 1, 'page_label': '2'}, page_content=\"Neolen is an award-winning IT Development Agency, team based\\nin Delhi, India. Trusted by big companies and growing startups.\\nWe help you innovate and connect with your users through\\ntechnology.\\nABOUT NEOLEN\\n+6 Years of Experience\\nWe have been developing\\nsoftware since 2018.\\n+20 Happy Clients\\nWe work with companies\\nacross diverse sectors and\\nindustries.\\nRevenue Focus Products\\nWe don't just build products;\\nwe engineer them for market\\nsuccess.\"),\n",
       " Document(metadata={'producer': '3-Heights™ PDF Optimization API 6.27.2.6 (http://www.pdf-tools.com)', 'creator': 'Chromium', 'creationdate': '2025-01-28T07:04:53+00:00', 'moddate': '2025-01-28T07:05:02+00:00', 'source': 'docs\\\\Neolen Pitch.pdf', 'total_pages': 11, 'page': 2, 'page_label': '3'}, page_content='20+ AI Agents Build in 3 Months.\\nwe specialize in crafting AI Agents\\nfor different use cases like\\nmarketing, customer support, lead\\ngeneration etc.\\nAI AGENTS DEVELOPMENT\\n4+ ML Models Build in 3 years.\\nWe have worked in Audio, NLP,\\nPredictive and Computer Vision\\nModeling to deliver high\\nperformance AI/ML models.\\nAI/ML DEVELOPMENT\\n10+ App Build in last 3 years\\nWe offer Application development\\nservices to assist you in building\\nworld-class custom websites,\\nAndroid/IOS mobile application etc.\\nAPP DEVELOPMENT\\nOur Services\\nWe also offer other services like\\nUI/UX Design, DevOps, Staff,\\nAugmentation, Ecommerce\\nDevelopment, Browser Extensions\\nDevelopment etc.\\nOTHER SERVICES\\n2+ LLM Deployed\\nWe provide Enterprise LLM, AI\\nChatbots, and assistance in\\nleveraging Generative AI to\\nenhance business ef\\x00ciency and\\nproductivity.\\nGENERATIVE AI\\nNeolen excels in AR/VR and\\nMetaverse projects, providing\\nexpert 3D design and modeling for\\nimmersive experiences across\\ndevices and technologies.\\nAR/VR DEVELOPMENT'),\n",
       " Document(metadata={'producer': '3-Heights™ PDF Optimization API 6.27.2.6 (http://www.pdf-tools.com)', 'creator': 'Chromium', 'creationdate': '2025-01-28T07:04:53+00:00', 'moddate': '2025-01-28T07:05:02+00:00', 'source': 'docs\\\\Neolen Pitch.pdf', 'total_pages': 11, 'page': 3, 'page_label': '4'}, page_content='WE HAVE WORKED WITH 20+ CLIENTS ALL OVER WORLD IN LAST 3 YEARS\\nEstart\\nBloomcap\\nArbunize\\nGetboarded\\nPawpurrfect\\nWhorv\\nMicmonster\\nTaino Systems\\nCHROME DM\\nSCALEUPSOFT\\nSeeker\\nListen Monster\\nVideoWiki\\nFINOW\\nIZ\\nAngels Hair\\nEZBZ Rentals'),\n",
       " Document(metadata={'producer': '3-Heights™ PDF Optimization API 6.27.2.6 (http://www.pdf-tools.com)', 'creator': 'Chromium', 'creationdate': '2025-01-28T07:04:53+00:00', 'moddate': '2025-01-28T07:05:02+00:00', 'source': 'docs\\\\Neolen Pitch.pdf', 'total_pages': 11, 'page': 4, 'page_label': '5'}, page_content='Our powerhouse team responsible for delivering top-tier\\nproducts that generate millions in revenue for our clients.\\nOUR CORE TEAM\\nShivam Dhawan\\nBUSINESS ANALYTICS\\nCONSULTANT\\n20+ YEARS OF EXPERIENCE\\nSumit Rathore\\nFOUNDER & CEO\\nBLOCKCHAIN, AI/ML EXPERT\\n6+ YEARS OF EXPERIENCE\\nSonam Rathore\\nCO FOUNDER & CTO\\nFULL STACK DEVELOPER\\n10+ YEARS OF EXPERIENCE\\nRoshan Singh\\nGROWTH HACKER\\n6+ YEARS OF EXPERIENCE\\nAnkit Sharma\\nAR/VR GAME DEEVLOPER\\n8+ YEARS OF EXPERIENCE\\nRajat Gupta\\nCLOUD EXPERT\\n6+ YEARS OF EXPERIENCE'),\n",
       " Document(metadata={'producer': '3-Heights™ PDF Optimization API 6.27.2.6 (http://www.pdf-tools.com)', 'creator': 'Chromium', 'creationdate': '2025-01-28T07:04:53+00:00', 'moddate': '2025-01-28T07:05:02+00:00', 'source': 'docs\\\\Neolen Pitch.pdf', 'total_pages': 11, 'page': 5, 'page_label': '6'}, page_content='GETBOARDED HELP CORPORATE \\nEMPLOYEES TO IMPORVE THEIR \\nSKILLS AND PERSONALITY.\\nPawpurrfect\\n50K+ USERS\\nPAWPURRFECT IS A FIRST OF ITS \\nKIND MOBILE E-MARKETPLACE FOR \\nBEST PET SERVICES IN INDIA. \\nBloomcap\\n200K+ USERS\\n \\nINDIA’S BIGGEST OLYMPIADS IN 18 \\nSUBJECTS FOR CLASSES 1-12. IN \\nBOTH ENGLISH AND HINDI MEDIUM. \\nCONDUCTED IN OFFLINE AS WELL AS \\nONLINE MODE\\nGetboarded\\nAPPLICATIONS CASE STUDY'),\n",
       " Document(metadata={'producer': '3-Heights™ PDF Optimization API 6.27.2.6 (http://www.pdf-tools.com)', 'creator': 'Chromium', 'creationdate': '2025-01-28T07:04:53+00:00', 'moddate': '2025-01-28T07:05:02+00:00', 'source': 'docs\\\\Neolen Pitch.pdf', 'total_pages': 11, 'page': 6, 'page_label': '7'}, page_content='Mic Monster\\nMic monster is the future of voiceover with\\nthousands of active users on platform.\\nAI/ML Applications Case Study\\nListen Monster\\nListen Monster is speech to text platform with their\\nown speech to text model created by us.'),\n",
       " Document(metadata={'producer': '3-Heights™ PDF Optimization API 6.27.2.6 (http://www.pdf-tools.com)', 'creator': 'Chromium', 'creationdate': '2025-01-28T07:04:53+00:00', 'moddate': '2025-01-28T07:05:02+00:00', 'source': 'docs\\\\Neolen Pitch.pdf', 'total_pages': 11, 'page': 7, 'page_label': '8'}, page_content='Reward Based Content\\nCreator Tool\\nBLOCKCHAIN CASE STUDY\\nConsider the tool as a \"Video Wikipedia\\nfor Learners and Creators\"\\nA collaborative platform for learners and educators to\\nsecure learning continuity in times of restrictions and\\nbeyond.'),\n",
       " Document(metadata={'producer': '3-Heights™ PDF Optimization API 6.27.2.6 (http://www.pdf-tools.com)', 'creator': 'Chromium', 'creationdate': '2025-01-28T07:04:53+00:00', 'moddate': '2025-01-28T07:05:02+00:00', 'source': 'docs\\\\Neolen Pitch.pdf', 'total_pages': 11, 'page': 8, 'page_label': '9'}, page_content=\"KARAN OBEROI\\nWHORV\\nMRINALINI KHUSAPE\\nPAWPURRFECT\\nHARIENDERPREET SINGH\\nLISTEN MONSTER \\nI love Neolen. I would also like to\\nsay thanks to all your staff.\\nThanks for the great journey, it\\nwas amazing collaborating with\\nyou guys.\\nNeolen's team provided us with\\nexceptional IT support for our business.\\nTheir quick response times and technical\\nexpertise made all the difference for us.\\nHighly recommend!\\nI have been working with Neolen\\nfor over a year now and I am\\nextremely satis\\x00ed with their\\nservice.\\nListen to Few Our Happy Clients\"),\n",
       " Document(metadata={'producer': '3-Heights™ PDF Optimization API 6.27.2.6 (http://www.pdf-tools.com)', 'creator': 'Chromium', 'creationdate': '2025-01-28T07:04:53+00:00', 'moddate': '2025-01-28T07:05:02+00:00', 'source': 'docs\\\\Neolen Pitch.pdf', 'total_pages': 11, 'page': 9, 'page_label': '10'}, page_content='CONTACT US\\nSUMIT@NEOLEN.COM\\n+91 767851152\\nNEOLEN.COM\\nWE WOULD LOVE TO KNOW MORE ABOUT YOU AND HOW\\nWE CAN HELP YOUR BUSINESS TO GROW.'),\n",
       " Document(metadata={'producer': '3-Heights™ PDF Optimization API 6.27.2.6 (http://www.pdf-tools.com)', 'creator': 'Chromium', 'creationdate': '2025-01-28T07:04:53+00:00', 'moddate': '2025-01-28T07:05:02+00:00', 'source': 'docs\\\\Neolen Pitch.pdf', 'total_pages': 11, 'page': 10, 'page_label': '11'}, page_content=''),\n",
       " Document(metadata={'producer': 'PyPDF', 'creator': 'Google', 'creationdate': '', 'title': 'Pitch Deck EvolveDev.io', 'source': 'docs\\\\Pitch Deck EvolveDev.io .pdf', 'total_pages': 10, 'page': 0, 'page_label': '1'}, page_content='EvolveDev.io \\nSoftware Engineering Intelligence Platform'),\n",
       " Document(metadata={'producer': 'PyPDF', 'creator': 'Google', 'creationdate': '', 'title': 'Pitch Deck EvolveDev.io', 'source': 'docs\\\\Pitch Deck EvolveDev.io .pdf', 'total_pages': 10, 'page': 1, 'page_label': '2'}, page_content='Collating and deriving insights from \\nversion control system(VCS), Project \\nManagement tools & other saas \\ntools is hard.  \\nData lives in silos\\nLack of real-time visibility \\ninto team’s progress, hinders \\nyour ability to make \\ninformed decisions.'),\n",
       " Document(metadata={'producer': 'PyPDF', 'creator': 'Google', 'creationdate': '', 'title': 'Pitch Deck EvolveDev.io', 'source': 'docs\\\\Pitch Deck EvolveDev.io .pdf', 'total_pages': 10, 'page': 2, 'page_label': '3'}, page_content=\"Silos to Spreadsheets \\nThe struggle is real\\nEndless spreadsheets\\nManually copying and \\npasting data eats time \\nand breeds errors.\\nDIY dashboards\\nBuilding and maintaining \\nthem eats resources and \\nlimits functionality.\\nIn-house automations\\nThey're fragile, \\nbandwidth-consuming \\nand maintenance \\nheavy.\"),\n",
       " Document(metadata={'producer': 'PyPDF', 'creator': 'Google', 'creationdate': '', 'title': 'Pitch Deck EvolveDev.io', 'source': 'docs\\\\Pitch Deck EvolveDev.io .pdf', 'total_pages': 10, 'page': 3, 'page_label': '4'}, page_content='EvolveDev \\nEffortless Setup, Powerful Insights\\nPlug & Play\\nGet started in minutes, not weeks\\nReal-time data\\nMake informed decisions now, not later.'),\n",
       " Document(metadata={'producer': 'PyPDF', 'creator': 'Google', 'creationdate': '', 'title': 'Pitch Deck EvolveDev.io', 'source': 'docs\\\\Pitch Deck EvolveDev.io .pdf', 'total_pages': 10, 'page': 4, 'page_label': '5'}, page_content=\"EvolveDev \\nEffortless Setup, Powerful Insights\\nBird's-eye view\\nSee your entire team's performance in one place.\\nForever beneﬁts\\nStop wasting time on manual data wrangling\"),\n",
       " Document(metadata={'producer': 'PyPDF', 'creator': 'Google', 'creationdate': '', 'title': 'Pitch Deck EvolveDev.io', 'source': 'docs\\\\Pitch Deck EvolveDev.io .pdf', 'total_pages': 10, 'page': 5, 'page_label': '6'}, page_content='Integrations \\nEvolveDev.io'),\n",
       " Document(metadata={'producer': 'PyPDF', 'creator': 'Google', 'creationdate': '', 'title': 'Pitch Deck EvolveDev.io', 'source': 'docs\\\\Pitch Deck EvolveDev.io .pdf', 'total_pages': 10, 'page': 6, 'page_label': '7'}, page_content='Actionable Insights. Real Outcomes.\\nFast-Track Your Dev Pipeline\\nIdentify bottlenecks: Pinpoint inefficiencies with cycle time breakdown. \\nOptimize workﬂow: Streamline your SDLC for faster delivery. \\nAlign Efforts, Achieve Goals\\nEffort categorization: Automatically categorize tasks for strategic \\nalignment. \\nBusiness-driven development: Ensure engineering efforts support \\ncompany objectives.'),\n",
       " Document(metadata={'producer': 'PyPDF', 'creator': 'Google', 'creationdate': '', 'title': 'Pitch Deck EvolveDev.io', 'source': 'docs\\\\Pitch Deck EvolveDev.io .pdf', 'total_pages': 10, 'page': 7, 'page_label': '8'}, page_content=\"Tailor Your Insights\\nCustomizable charts: Craft visualizations that suit your team's \\nneeds. \\nIntuitive ﬁlters: Slice and dice data for deeper exploration. \\nActionable Insights. Real Outcomes.\\nContinuous Improvement at a Glance\\nReal-time visibility: Track metrics like cycle time, pull requests, and sprint \\npoints. \\nData-driven decisions: Make informed choices based on tangible \\nperformance data.\"),\n",
       " Document(metadata={'producer': 'PyPDF', 'creator': 'Google', 'creationdate': '', 'title': 'Pitch Deck EvolveDev.io', 'source': 'docs\\\\Pitch Deck EvolveDev.io .pdf', 'total_pages': 10, 'page': 8, 'page_label': '9'}, page_content='Actionable Insights. Real Outcomes.\\nFoster Transparency & Collaboration\\nTeam progress insights: Use data to understand team health, culture, \\nand processes. \\nEffortless 1:1s: Prepare for productive one-on-one meetings with \\ndata-backed discussions. \\nSeamless Communication\\nAutomated reporting: Eliminate platform juggling. Share \\nupdates with ease via Slack and email.'),\n",
       " Document(metadata={'producer': 'PyPDF', 'creator': 'Google', 'creationdate': '', 'title': 'Pitch Deck EvolveDev.io', 'source': 'docs\\\\Pitch Deck EvolveDev.io .pdf', 'total_pages': 10, 'page': 9, 'page_label': '10'}, page_content=\"Limited-Time MVP Access: Be among the ﬁrst to \\nexperience EvolveDev's potential.\\nFree Trial, Big Beneﬁts: Start seeing results \\nwithout any ﬁnancial commitment.\\nShape the Future: Help us build the perfect \\nplatform for your needs.\\nJoin our Early Access Program\\nGet Started Now!!\")]"
      ]
     },
     "execution_count": 16,
     "metadata": {},
     "output_type": "execute_result"
    }
   ],
   "source": [
    "docs"
   ]
  },
  {
   "cell_type": "code",
   "execution_count": 17,
   "id": "169e841f",
   "metadata": {},
   "outputs": [],
   "source": [
    "# Split docs \n",
    "from langchain.text_splitter import RecursiveCharacterTextSplitter\n",
    "\n",
    "test_splitter = RecursiveCharacterTextSplitter(\n",
    "                    chunk_size = 5000, \n",
    "                    chunk_overlap = 500\n",
    ")\n",
    "\n",
    "doc_chunks = test_splitter.split_documents(docs)"
   ]
  },
  {
   "cell_type": "code",
   "execution_count": 18,
   "id": "20dd9e3f",
   "metadata": {},
   "outputs": [
    {
     "name": "stderr",
     "output_type": "stream",
     "text": [
      "c:\\Users\\HP\\Desktop\\VS_Code\\projects\\RAG_model\\RAG_for_Investment_evaluation\\venv\\Lib\\site-packages\\tqdm\\auto.py:21: TqdmWarning: IProgress not found. Please update jupyter and ipywidgets. See https://ipywidgets.readthedocs.io/en/stable/user_install.html\n",
      "  from .autonotebook import tqdm as notebook_tqdm\n"
     ]
    }
   ],
   "source": [
    "from langchain_huggingface import HuggingFaceEmbeddings\n",
    "\n",
    "model_name = \"sentence-transformers/all-mpnet-base-v2\"\n",
    "model_kwargs = {'device': 'cpu'}\n",
    "encode_kwargs = {'normalize_embeddings': False}\n",
    "hf_embedding = HuggingFaceEmbeddings(\n",
    "    model_name=model_name,\n",
    "    model_kwargs=model_kwargs,\n",
    "    encode_kwargs=encode_kwargs\n",
    ")"
   ]
  },
  {
   "cell_type": "code",
   "execution_count": 22,
   "id": "4969d690",
   "metadata": {},
   "outputs": [],
   "source": [
    "# Tokenize and load document ino vector stores\n",
    "\n",
    "from langchain_community.vectorstores import Chroma\n",
    "\n",
    "vector_db = Chroma.from_documents(documents = doc_chunks, embedding = hf_embedding)"
   ]
  },
  {
   "cell_type": "code",
   "execution_count": null,
   "id": "a205c790",
   "metadata": {},
   "outputs": [
    {
     "data": {
      "text/plain": [
       "[Document(metadata={'page': 8, 'creator': 'Chromium', 'moddate': '2025-01-28T07:05:02+00:00', 'total_pages': 11, 'creationdate': '2025-01-28T07:04:53+00:00', 'source': 'docs\\\\Neolen Pitch.pdf', 'page_label': '9', 'producer': '3-Heights™ PDF Optimization API 6.27.2.6 (http://www.pdf-tools.com)'}, page_content=\"KARAN OBEROI\\nWHORV\\nMRINALINI KHUSAPE\\nPAWPURRFECT\\nHARIENDERPREET SINGH\\nLISTEN MONSTER \\nI love Neolen. I would also like to\\nsay thanks to all your staff.\\nThanks for the great journey, it\\nwas amazing collaborating with\\nyou guys.\\nNeolen's team provided us with\\nexceptional IT support for our business.\\nTheir quick response times and technical\\nexpertise made all the difference for us.\\nHighly recommend!\\nI have been working with Neolen\\nfor over a year now and I am\\nextremely satis\\x00ed with their\\nservice.\\nListen to Few Our Happy Clients\"),\n",
       " Document(metadata={'creator': 'Chromium', 'page': 4, 'page_label': '5', 'moddate': '2025-01-28T07:05:02+00:00', 'source': 'docs\\\\Neolen Pitch.pdf', 'producer': '3-Heights™ PDF Optimization API 6.27.2.6 (http://www.pdf-tools.com)', 'total_pages': 11, 'creationdate': '2025-01-28T07:04:53+00:00'}, page_content='Our powerhouse team responsible for delivering top-tier\\nproducts that generate millions in revenue for our clients.\\nOUR CORE TEAM\\nShivam Dhawan\\nBUSINESS ANALYTICS\\nCONSULTANT\\n20+ YEARS OF EXPERIENCE\\nSumit Rathore\\nFOUNDER & CEO\\nBLOCKCHAIN, AI/ML EXPERT\\n6+ YEARS OF EXPERIENCE\\nSonam Rathore\\nCO FOUNDER & CTO\\nFULL STACK DEVELOPER\\n10+ YEARS OF EXPERIENCE\\nRoshan Singh\\nGROWTH HACKER\\n6+ YEARS OF EXPERIENCE\\nAnkit Sharma\\nAR/VR GAME DEEVLOPER\\n8+ YEARS OF EXPERIENCE\\nRajat Gupta\\nCLOUD EXPERT\\n6+ YEARS OF EXPERIENCE'),\n",
       " Document(metadata={'page': 1, 'moddate': '2025-01-28T07:05:02+00:00', 'producer': '3-Heights™ PDF Optimization API 6.27.2.6 (http://www.pdf-tools.com)', 'page_label': '2', 'creator': 'Chromium', 'source': 'docs\\\\Neolen Pitch.pdf', 'creationdate': '2025-01-28T07:04:53+00:00', 'total_pages': 11}, page_content=\"Neolen is an award-winning IT Development Agency, team based\\nin Delhi, India. Trusted by big companies and growing startups.\\nWe help you innovate and connect with your users through\\ntechnology.\\nABOUT NEOLEN\\n+6 Years of Experience\\nWe have been developing\\nsoftware since 2018.\\n+20 Happy Clients\\nWe work with companies\\nacross diverse sectors and\\nindustries.\\nRevenue Focus Products\\nWe don't just build products;\\nwe engineer them for market\\nsuccess.\"),\n",
       " Document(metadata={'source': 'docs\\\\Neolen Pitch.pdf', 'producer': '3-Heights™ PDF Optimization API 6.27.2.6 (http://www.pdf-tools.com)', 'creationdate': '2025-01-28T07:04:53+00:00', 'moddate': '2025-01-28T07:05:02+00:00', 'creator': 'Chromium', 'total_pages': 11, 'page': 9, 'page_label': '10'}, page_content='CONTACT US\\nSUMIT@NEOLEN.COM\\n+91 767851152\\nNEOLEN.COM\\nWE WOULD LOVE TO KNOW MORE ABOUT YOU AND HOW\\nWE CAN HELP YOUR BUSINESS TO GROW.')]"
      ]
     },
     "execution_count": 62,
     "metadata": {},
     "output_type": "execute_result"
    }
   ],
   "source": [
    "vector_db.similarity_search(\"karan oberoi\",)"
   ]
  },
  {
   "cell_type": "code",
   "execution_count": 19,
   "id": "9b71188e",
   "metadata": {},
   "outputs": [],
   "source": [
    "# Retrieve\n",
    "from langchain_core.prompts import ChatPromptTemplate, MessagesPlaceholder\n",
    "from langchain.chains import create_history_aware_retriever, create_retrieval_chain\n",
    "\n",
    "def _get_context_retriever_chain(vector_db, llm):\n",
    "    retriever = vector_db.as_retriever()\n",
    "    prompt = ChatPromptTemplate.from_messages([\n",
    "        MessagesPlaceholder(variable_name=\"messages\"),\n",
    "        (\"user\", \"{input}\"),\n",
    "        (\"user\", \"Given the above conversation, generate a search query to look up in order to get inforamtion relevant to the conversation, focusing on the most recent messages.\"),\n",
    "    ])\n",
    "    retriever_chain = create_history_aware_retriever(llm, retriever, prompt)\n",
    "\n",
    "    return retriever_chain"
   ]
  },
  {
   "cell_type": "code",
   "execution_count": 20,
   "id": "0701a132",
   "metadata": {},
   "outputs": [],
   "source": [
    "from langchain.chains.combine_documents import create_stuff_documents_chain\n",
    "\n",
    "def get_conversational_rag_chain(llm):\n",
    "    retriever_chain = _get_context_retriever_chain(vector_db, llm)\n",
    "\n",
    "    prompt = ChatPromptTemplate.from_messages([\n",
    "        (\"system\",\n",
    "        \"\"\"You are a helpful assistant. You will have to answer to user's queries.\n",
    "        You will have some context to help with your answers, but now always would be completely related or helpful.\n",
    "        You can also use your knowledge to assist answering the user's queries.\\n\n",
    "        {context}\"\"\"),\n",
    "        MessagesPlaceholder(variable_name=\"messages\"),\n",
    "        (\"user\", \"{input}\"),\n",
    "    ])\n",
    "    stuff_documents_chain = create_stuff_documents_chain(llm, prompt)\n",
    "\n",
    "    return create_retrieval_chain(retriever_chain, stuff_documents_chain)"
   ]
  },
  {
   "cell_type": "code",
   "execution_count": 23,
   "id": "134ced5a",
   "metadata": {},
   "outputs": [
    {
     "name": "stdout",
     "output_type": "stream",
     "text": [
      "<think>\n",
      "Alright, the user is asking, \"What is Neolen all about?\" I need to provide a clear and concise answer based on the context they've given. Let me go through the information provided.\n",
      "\n",
      "First, Neolen is an award-winning IT Development Agency based in Delhi, India. They've been around since 2018, so they have over six years of experience. They've worked with 20+ happy clients across various industries, which shows their versatility and reliability.\n",
      "\n",
      "They focus on engineering revenue-driven products, which means they don't just build software but ensure it's successful in the market. Their services include AI Agents Development, where they've built over 20 AI agents in three months. That's impressive and shows their expertise in AI.\n",
      "\n",
      "They also have experience in ML models, particularly in areas like Audio, NLP, Predictive, and Computer Vision. They've built four plus ML models over three years, which indicates a strong foundation in machine learning.\n",
      "\n",
      "App development is another key area, with over 10 apps built in the last three years. They cover web, Android, and iOS applications. Additionally, they offer other services like UI/UX Design, DevOps, Staff Augmentation, Ecommerce Development, and Browser Extensions. This makes them a comprehensive IT solutions provider.\n",
      "\n",
      "They've deployed two plus LLMs, focusing on enterprise solutions, AI chatbots, and generative AI to enhance business efficiency. Their work in AR/VR and Metaverse projects with 3D design and modeling shows they're at the forefront of immersive technologies.\n",
      "\n",
      "The testimonials from clients highlight their exceptional IT support, quick response times, and technical expertise. Clients have been satisfied with their services, which speaks to their reliability and quality.\n",
      "\n",
      "Putting this all together, Neolen is a well-rounded IT agency with a strong portfolio in AI, ML, app development, and emerging technologies like AR/VR. They have a proven track record and happy clients, making them a trustworthy partner for businesses looking to innovate and succeed in the market.\n",
      "</think>\n",
      "\n",
      "Neolen is an award-winning IT Development Agency based in Delhi, India. With over 6 years of experience, they specialize in engineering revenue-driven products for market success. They have worked with 20+ happy clients across diverse industries and have built over a million lines of code, impacting millions of users and generating millions in revenue.\n",
      "\n",
      "Neolen offers a wide range of services, including:\n",
      "\n",
      "1. **AI Agents Development**: They specialize in crafting AI agents for various use cases like marketing, customer support, and lead generation. They have built 20+ AI agents in just 3 months.\n",
      "\n",
      "2. **AI/ML Development**: They have developed 4+ ML models in areas like Audio, NLP, Predictive, and Computer Vision Modeling.\n",
      "\n",
      "3. **App Development**: They have built 10+ applications in the last 3 years, including custom websites, Android/IOS mobile applications, and more.\n",
      "\n",
      "4. **Other Services**: They also offer UI/UX Design, DevOps, Staff Augmentation, Ecommerce Development, Browser Extensions Development, etc.\n",
      "\n",
      "5. **Generative AI**: They have deployed 2+ LLMs and provide solutions like AI Chatbots and Generative AI to enhance business efficiency.\n",
      "\n",
      "6. **AR/VR Development**: They excel in AR/VR and Metaverse projects, providing expert 3D design and modeling for immersive experiences.\n",
      "\n",
      "Neolen is known for its exceptional IT support, quick response times, and technical expertise, making them a trusted partner for businesses looking to innovate and succeed in the market."
     ]
    }
   ],
   "source": [
    "from langchain_core.messages import AIMessage, HumanMessage\n",
    "\n",
    "llm_stream = ChatGroq(model = deepseek,\n",
    "                      temperature=0.3, streaming=True)\n",
    "\n",
    "messages = [\n",
    "    {\"role\": \"user\", \"content\": \"Hi\"},\n",
    "    {\"role\": \"assistant\", \"content\": \"Hi there! How can I assist you today?\"},\n",
    "    {\"role\": \"user\", \"content\": \"What is Neolen all about?\"},\n",
    "]\n",
    "messages = [HumanMessage(content=m[\"content\"]) if m[\"role\"] == \"user\" else AIMessage(content=m[\"content\"]) for m in messages]\n",
    "\n",
    "conversation_rag_chain = get_conversational_rag_chain(llm_stream)\n",
    "response_message = \"*(RAG Response)*\\n\"\n",
    "for chunk in conversation_rag_chain.pick(\"answer\").stream({\"messages\": messages[:-1], \"input\": messages[-1].content}):\n",
    "    response_message += chunk\n",
    "    print(chunk, end=\"\", flush=True)\n",
    "\n",
    "messages.append({\"role\": \"assistant\", \"content\": response_message})"
   ]
  },
  {
   "cell_type": "code",
   "execution_count": 29,
   "id": "ab144a74",
   "metadata": {},
   "outputs": [
    {
     "name": "stdout",
     "output_type": "stream",
     "text": [
      "<think>\n",
      "Okay, so the user provided a lot of context about a company, including their core team and some product features. They asked for at least five additional insights that would be useful for investors. \n",
      "\n",
      "First, I need to figure out what investors care about. They usually look for growth potential, market fit, competitive advantage, strong teams, and clear financials. \n",
      "\n",
      "Looking at the context, the company has a solid team with a good mix of experience in various fields like blockchain, AI/ML, and cloud expertise. That's a plus because investors like experienced teams. \n",
      "\n",
      "The product seems to focus on actionable insights and improving development workflows, which is a hot area right now. Companies are always looking to optimize their processes, so that's a good market fit.\n",
      "\n",
      "I should think about what else would make this company attractive. Maybe market expansion opportunities? If they can show they can enter new industries or geographies, that's a big plus.\n",
      "\n",
      "Customer acquisition strategy is another key area. Investors want to know how the company plans to get and keep customers. If they have a clear, cost-effective strategy, that builds confidence.\n",
      "\n",
      "Competitive advantage is crucial. What makes this company better than others in the same space? Maybe their tech stack or unique approach to data analytics.\n",
      "\n",
      "Scalability is important too. Can the product grow with the company? If they can scale efficiently, that's a good sign for growth.\n",
      "\n",
      "Financial projections and unit economics are also essential. Investors need to see realistic growth plans and understand the cost structure.\n",
      "\n",
      "The team's vision and adaptability matter as well. Investors want to know if the leadership can pivot when necessary and has a long-term plan.\n",
      "\n",
      "Customer testimonials or case studies would add credibility. If they can show real-world success, that makes the investment more appealing.\n",
      "\n",
      "Lastly, ESG considerations are becoming more important. Investors might look for how the company contributes positively beyond just profits.\n",
      "\n",
      "Putting this all together, I can outline these points as additional insights that would be useful for investors. Each point addresses a different aspect that investors typically evaluate.\n",
      "</think>\n",
      "\n",
      "Here are five additional insights that could be useful for investors when evaluating this company:\n",
      "\n",
      "---\n",
      "\n",
      "### 1. **Market Expansion Opportunities**\n",
      "   - **Insight:** The product's focus on actionable insights, team collaboration, and workflow optimization positions it well to expand into adjacent markets, such as enterprise resource planning (ERP), product lifecycle management (PLM), or even industries like healthcare and finance that rely heavily on data-driven decision-making.\n",
      "   - **Why It Matters for Investors:** This highlights the company's potential to scale beyond its current use case, offering a larger total addressable market (TAM) and growth opportunities.\n",
      "\n",
      "---\n",
      "\n",
      "### 2. **Customer Acquisition Strategy**\n",
      "   - **Insight:** The company could leverage its expertise in blockchain, AI/ML, and cloud technologies to target high-growth industries like Web3, fintech, and SaaS platforms, where data transparency and real-time insights are critical.\n",
      "   - **Why It Matters for Investors:** A clear and focused customer acquisition strategy ensures that the company can efficiently attract and retain customers, driving revenue growth.\n",
      "\n",
      "---\n",
      "\n",
      "### 3. **Competitive Advantage**\n",
      "   - **Insight:** The combination of real-time visibility into metrics like cycle time, pull requests, and sprint points, along with customizable charts and filters, creates a unique value proposition that differentiates the product from competitors in the DevOps and project management space.\n",
      "   - **Why It Matters for Investors:** A strong competitive advantage can help the company maintain market share and pricing power, even as new entrants emerge.\n",
      "\n",
      "---\n",
      "\n",
      "### 4. **Scalability of the Product**\n",
      "   - **Insight:** The product's ability to handle large volumes of data and provide seamless communication across teams makes it scalable for enterprise-level clients. This scalability could also be enhanced by integrating advanced AI/ML models to predict bottlenecks and optimize workflows proactively.\n",
      "   - **Why It Matters for Investors:** Scalability is a key driver of growth, and the ability to serve enterprise clients can significantly increase revenue and margins.\n",
      "\n",
      "---\n",
      "\n",
      "### 5. **Financial Projections and Unit Economics**\n",
      "   - **Insight:** Investors would want to see clear financial projections, including revenue growth, customer acquisition cost (CAC), lifetime value (LTV), and churn rates. Additionally, the company could highlight its unit economics, such as the cost of serving each customer and the margin structure of its offerings.\n",
      "   - **Why It Matters for Investors:** Strong unit economics and clear financial projections provide confidence in the company's ability to achieve profitability and deliver returns on investment.\n",
      "\n",
      "---\n",
      "\n",
      "### Bonus Insight: **Vision for the Future**\n",
      "   - **Insight:** The company's leadership team, with expertise in cutting-edge technologies like blockchain and AI/ML, is well-positioned to innovate and stay ahead of industry trends. A clear vision for how these technologies will be integrated into the product roadmap could set the company apart.\n",
      "   - **Why It Matters for Investors:** A forward-thinking vision ensures that the company can adapt to changing market conditions and capitalize on emerging opportunities.\n",
      "\n",
      "---\n",
      "\n",
      "These insights would help investors assess the company's growth potential, competitive positioning, and long-term viability."
     ]
    }
   ],
   "source": [
    "llm_stream = ChatGroq(model = deepseek,\n",
    "                      temperature=0.3, streaming=True)\n",
    "\n",
    "messages = [\n",
    "    {\"role\": \"user\", \"content\": \"Hi\"},\n",
    "    {\"role\": \"assistant\", \"content\": \"Hi there! How can I assist you today?\"},\n",
    "    {\"role\": \"user\", \"content\": \"At least5 additional insights you think are useful for the investors\"},\n",
    "]\n",
    "messages = [HumanMessage(content=m[\"content\"]) if m[\"role\"] == \"user\" else AIMessage(content=m[\"content\"]) for m in messages]\n",
    "\n",
    "conversation_rag_chain = get_conversational_rag_chain(llm_stream)\n",
    "response_message = \"*(RAG Response)*\\n\"\n",
    "for chunk in conversation_rag_chain.pick(\"answer\").stream({\"messages\": messages[:-1], \"input\": messages[-1].content}):\n",
    "    response_message += chunk\n",
    "    print(chunk, end=\"\", flush=True)\n",
    "\n",
    "messages.append({\"role\": \"assistant\", \"content\": response_message})"
   ]
  },
  {
   "cell_type": "code",
   "execution_count": 30,
   "id": "54ec0642",
   "metadata": {},
   "outputs": [
    {
     "name": "stdout",
     "output_type": "stream",
     "text": [
      "<think>\n",
      "Alright, the user is asking about the key risk factors investors might consider from the provided pitch deck. Let me start by understanding the context. The pitch deck talks about a company with a specific product and a team. Investors would look for risks in several areas.\n",
      "\n",
      "First, the market and competition. The pitch mentions the product helps with team progress and communication, but it doesn't specify the market size or competition. Investors would want to know if the market is big enough and how the product stands out.\n",
      "\n",
      "Next, the technology. The product has features like automated reporting and customizable charts. Investors would assess if the tech is scalable and secure, especially since it's integrating with platforms like Slack and email.\n",
      "\n",
      "Looking at the team, the founders have varied experience, which is a strength. However, the CEO has only 6+ years of experience, which might raise concerns about handling rapid scaling or complex challenges.\n",
      "\n",
      "Customer acquisition is another area. The pitch doesn't detail how they plan to attract and retain customers. Investors would want to know the strategy and the cost involved.\n",
      "\n",
      "Financial aspects aren't discussed, so investors would be cautious without seeing revenue models, pricing, or profit margins.\n",
      "\n",
      "The product's uniqueness is also a point. Without clear differentiation, it might be hard to attract users. Investors would look for a strong USP.\n",
      "\n",
      "Regulatory compliance is another risk, especially with data handling. The pitch doesn't mention any certifications or compliance measures.\n",
      "\n",
      "Dependency on integrations with Slack and email could be a risk if those platforms change their policies. Investors would want to know if the product can adapt.\n",
      "\n",
      "Customer concentration is a risk if the business relies on a few big clients. Without this info, investors might worry about stability.\n",
      "\n",
      "Lastly, the pitch lacks a clear exit strategy. Investors would want to know how they plan to exit, whether through acquisition or IPO.\n",
      "\n",
      "So, I should outline these points clearly, explaining each risk factor and why it's important for investors to consider. That way, the user gets a comprehensive view of potential risks based on the pitch deck provided.\n",
      "</think>\n",
      "\n",
      "When evaluating a pitch deck, investors typically look for potential risks that could impact the company's success. Based on the information provided in the pitch deck, here are some key risk factors investors might consider:\n",
      "\n",
      "---\n",
      "\n",
      "### 1. **Market and Competition Risks**\n",
      "   - **Market Saturation**: The pitch does not provide information about the size of the target market or the competitive landscape. Investors might question whether the market is large enough to sustain growth or whether the product is differentiated enough to stand out.\n",
      "   - **Competitor Analysis**: There is no mention of direct or indirect competitors, which could raise concerns about the uniqueness of the product or the ability to capture market share.\n",
      "\n",
      "---\n",
      "\n",
      "### 2. **Technology and Product Risks**\n",
      "   - **Technical Complexity**: The product involves real-time data analytics, automated reporting, and integrations with platforms like Slack and email. Investors might assess whether the technology is scalable, secure, and reliable.\n",
      "   - **Dependence on Integrations**: The product's value proposition relies on seamless integrations with third-party platforms. Any changes in these platforms' APIs or policies could pose a risk to the business.\n",
      "\n",
      "---\n",
      "\n",
      "### 3. **Team and Execution Risks**\n",
      "   - **Founders' Experience**: While the core team has diverse expertise, investors might assess whether the team has the necessary experience to scale the product and manage a rapidly growing business. For example, the CEO has 6+ years of experience, which may be limited compared to the complexity of the market.\n",
      "   - **Team Stability**: Investors might look for evidence of team stability and whether the founders have worked together successfully in the past.\n",
      "\n",
      "---\n",
      "\n",
      "### 4. **Customer Acquisition and Retention Risks**\n",
      "   - **Go-to-Market Strategy**: The pitch does not detail how the company plans to acquire customers or how it will retain them. Investors might question the customer acquisition cost (CAC) and the lifetime value (LTV) of customers.\n",
      "   - **Customer Concentration**: There is no information about the diversity of the customer base, which could pose a risk if the business is overly reliant on a few large clients.\n",
      "\n",
      "---\n",
      "\n",
      "### 5. **Financial and Revenue Risks**\n",
      "   - **Revenue Model**: The pitch does not clarify the pricing model or how the company generates revenue. Investors might want to see a clear path to profitability and evidence of recurring revenue streams.\n",
      "   - **Scalability**: While the product aims to optimize development pipelines, investors might assess whether the business model is scalable and whether the costs of scaling are manageable.\n",
      "\n",
      "---\n",
      "\n",
      "### 6. **Product-Market Fit Risks**\n",
      "   - **Value Proposition**: The pitch emphasizes \"actionable insights\" and \"real outcomes,\" but investors might seek evidence of product-market fit, such as early customer adoption or testimonials.\n",
      "   - **Differentiation**: The product's ability to stand out from existing tools (e.g., project management software, analytics platforms) is not clearly articulated.\n",
      "\n",
      "---\n",
      "\n",
      "### 7. **Regulatory and Compliance Risks**\n",
      "   - **Data Privacy**: The product involves handling sensitive team and project data, which could raise concerns about compliance with data protection regulations like GDPR or CCPA.\n",
      "   - **Industry-Specific Regulations**: Depending on the target industry (e.g., healthcare, finance), there may be additional regulatory requirements that the product needs to meet.\n",
      "\n",
      "---\n",
      "\n",
      "### 8. **Dependence on Key Features**\n",
      "   - **Key Features**: The product's success depends on features like real-time visibility, customizable charts, and automated reporting. Investors might assess whether these features are defensible and whether they can be easily replicated by competitors.\n",
      "\n",
      "---\n",
      "\n",
      "### 9. **Customer Dependency**\n",
      "   - **Customer Concentration**: If the business relies on a small number of large customers, this could pose a risk if any of these customers churn.\n",
      "\n",
      "---\n",
      "\n",
      "### 10. **Exit Strategy**\n",
      "   - **Exit Potential**: Investors might look for clarity on the company's long-term vision, such as whether it plans to be acquired, go public, or continue as a private company.\n",
      "\n",
      "---\n",
      "\n",
      "### Conclusion:\n",
      "While the pitch highlights the product's value proposition and the team's expertise, investors would likely seek more detailed information on the risks outlined above. Addressing these risks in the pitch deck or during investor discussions could help alleviate concerns and strengthen the case for investment."
     ]
    }
   ],
   "source": [
    "llm_stream = ChatGroq(model = deepseek,\n",
    "                      temperature=0.3, streaming=True)\n",
    "\n",
    "messages = [\n",
    "    {\"role\": \"user\", \"content\": \"Hi\"},\n",
    "    {\"role\": \"assistant\", \"content\": \"Hi there! How can I assist you today?\"},\n",
    "    {\"role\": \"user\", \"content\": \"What are the key risk factors investors can consider from the pitch deck?\"},\n",
    "]\n",
    "messages = [HumanMessage(content=m[\"content\"]) if m[\"role\"] == \"user\" else AIMessage(content=m[\"content\"]) for m in messages]\n",
    "\n",
    "conversation_rag_chain = get_conversational_rag_chain(llm_stream)\n",
    "response_message = \"*(RAG Response)*\\n\"\n",
    "for chunk in conversation_rag_chain.pick(\"answer\").stream({\"messages\": messages[:-1], \"input\": messages[-1].content}):\n",
    "    response_message += chunk\n",
    "    print(chunk, end=\"\", flush=True)\n",
    "\n",
    "messages.append({\"role\": \"assistant\", \"content\": response_message})"
   ]
  },
  {
   "cell_type": "code",
   "execution_count": null,
   "id": "0b9c8d39",
   "metadata": {},
   "outputs": [],
   "source": []
  }
 ],
 "metadata": {
  "kernelspec": {
   "display_name": "Python 3",
   "language": "python",
   "name": "python3"
  },
  "language_info": {
   "codemirror_mode": {
    "name": "ipython",
    "version": 3
   },
   "file_extension": ".py",
   "mimetype": "text/x-python",
   "name": "python",
   "nbconvert_exporter": "python",
   "pygments_lexer": "ipython3",
   "version": "3.11.0"
  }
 },
 "nbformat": 4,
 "nbformat_minor": 5
}
